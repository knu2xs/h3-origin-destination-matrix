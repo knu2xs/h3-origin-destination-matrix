{
 "cells": [
  {
   "cell_type": "code",
   "execution_count": 3,
   "id": "1085dcdb-55a3-4574-a18e-a2c300f8810b",
   "metadata": {},
   "outputs": [],
   "source": [
    "from pathlib import Path\n",
    "\n",
    "from h3_od.proximity import get_distance_between_h3_indices"
   ]
  },
  {
   "cell_type": "code",
   "execution_count": 2,
   "id": "a61c47a0-524b-4267-85eb-4444cc786188",
   "metadata": {},
   "outputs": [],
   "source": [
    "od_pth = Path(r'D:\\projects\\h3-origin-destination-matrix\\data\\processed\\scottsdale_od_matrix_walk_distance_0_8_miles\\parquet')"
   ]
  },
  {
   "cell_type": "code",
   "execution_count": 4,
   "id": "371cd316-e383-4c40-96bf-3b84cb6375a5",
   "metadata": {},
   "outputs": [
    {
     "ename": "ArrowInvalid",
     "evalue": "No match for FieldRef.Name(origin_id) in destination_id: string\ndistance_miles: int64\ntime: int64",
     "output_type": "error",
     "traceback": [
      "\u001B[1;31m---------------------------------------------------------------------------\u001B[0m",
      "\u001B[1;31mArrowInvalid\u001B[0m                              Traceback (most recent call last)",
      "Cell \u001B[1;32mIn[4], line 1\u001B[0m\n\u001B[1;32m----> 1\u001B[0m get_distance_between_h3_indices(od_pth, \u001B[38;5;124m'\u001B[39m\u001B[38;5;124m8948eba5963ffff\u001B[39m\u001B[38;5;124m'\u001B[39m, \u001B[38;5;124m'\u001B[39m\u001B[38;5;124m8948eba591bffff\u001B[39m\u001B[38;5;124m'\u001B[39m)\n",
      "File \u001B[1;32mD:\\projects\\h3-origin-destination-matrix\\src\\h3_od\\proximity.py:625\u001B[0m, in \u001B[0;36mget_distance_between_h3_indices\u001B[1;34m(origin_destination_dataset, h3_origin, h3_destination, warn_on_fail)\u001B[0m\n\u001B[0;32m    620\u001B[0m fltr \u001B[38;5;241m=\u001B[39m (pc\u001B[38;5;241m.\u001B[39mfield(\u001B[38;5;124m\"\u001B[39m\u001B[38;5;124morigin_id\u001B[39m\u001B[38;5;124m\"\u001B[39m) \u001B[38;5;241m==\u001B[39m h3_origin) \u001B[38;5;241m&\u001B[39m (\n\u001B[0;32m    621\u001B[0m     pc\u001B[38;5;241m.\u001B[39mfield(\u001B[38;5;124m\"\u001B[39m\u001B[38;5;124mdestination_id\u001B[39m\u001B[38;5;124m\"\u001B[39m) \u001B[38;5;241m==\u001B[39m h3_destination\n\u001B[0;32m    622\u001B[0m )\n\u001B[0;32m    624\u001B[0m \u001B[38;5;66;03m# read in the table with the filter and convert to a list of dictionaries\u001B[39;00m\n\u001B[1;32m--> 625\u001B[0m fltr_lst \u001B[38;5;241m=\u001B[39m origin_destination_dataset\u001B[38;5;241m.\u001B[39mto_table(\u001B[38;5;28mfilter\u001B[39m\u001B[38;5;241m=\u001B[39mfltr)\u001B[38;5;241m.\u001B[39mto_pylist()\n\u001B[0;32m    627\u001B[0m \u001B[38;5;66;03m# handle contingency of not finding a match, but if found, provide the distance\u001B[39;00m\n\u001B[0;32m    628\u001B[0m \u001B[38;5;28;01mif\u001B[39;00m \u001B[38;5;28mlen\u001B[39m(fltr_lst) \u001B[38;5;241m==\u001B[39m \u001B[38;5;241m0\u001B[39m:\n",
      "File \u001B[1;32mD:\\projects\\h3-origin-destination-matrix\\env\\Lib\\site-packages\\pyarrow\\_dataset.pyx:553\u001B[0m, in \u001B[0;36mpyarrow._dataset.Dataset.to_table\u001B[1;34m()\u001B[0m\n",
      "File \u001B[1;32mD:\\projects\\h3-origin-destination-matrix\\env\\Lib\\site-packages\\pyarrow\\_dataset.pyx:399\u001B[0m, in \u001B[0;36mpyarrow._dataset.Dataset.scanner\u001B[1;34m()\u001B[0m\n",
      "File \u001B[1;32mD:\\projects\\h3-origin-destination-matrix\\env\\Lib\\site-packages\\pyarrow\\_dataset.pyx:3557\u001B[0m, in \u001B[0;36mpyarrow._dataset.Scanner.from_dataset\u001B[1;34m()\u001B[0m\n",
      "File \u001B[1;32mD:\\projects\\h3-origin-destination-matrix\\env\\Lib\\site-packages\\pyarrow\\_dataset.pyx:3475\u001B[0m, in \u001B[0;36mpyarrow._dataset.Scanner._make_scan_options\u001B[1;34m()\u001B[0m\n",
      "File \u001B[1;32mD:\\projects\\h3-origin-destination-matrix\\env\\Lib\\site-packages\\pyarrow\\_dataset.pyx:3409\u001B[0m, in \u001B[0;36mpyarrow._dataset._populate_builder\u001B[1;34m()\u001B[0m\n",
      "File \u001B[1;32mD:\\projects\\h3-origin-destination-matrix\\env\\Lib\\site-packages\\pyarrow\\_compute.pyx:2700\u001B[0m, in \u001B[0;36mpyarrow._compute._bind\u001B[1;34m()\u001B[0m\n",
      "File \u001B[1;32mD:\\projects\\h3-origin-destination-matrix\\env\\Lib\\site-packages\\pyarrow\\error.pxi:154\u001B[0m, in \u001B[0;36mpyarrow.lib.pyarrow_internal_check_status\u001B[1;34m()\u001B[0m\n",
      "File \u001B[1;32mD:\\projects\\h3-origin-destination-matrix\\env\\Lib\\site-packages\\pyarrow\\error.pxi:91\u001B[0m, in \u001B[0;36mpyarrow.lib.check_status\u001B[1;34m()\u001B[0m\n",
      "\u001B[1;31mArrowInvalid\u001B[0m: No match for FieldRef.Name(origin_id) in destination_id: string\ndistance_miles: int64\ntime: int64"
     ]
    }
   ],
   "source": [
    "get_distance_between_h3_indices(od_pth, '8948eba5963ffff', '8948eba591bffff')"
   ]
  },
  {
   "cell_type": "code",
   "execution_count": null,
   "id": "de38c8c5-dd2f-4517-a275-3100b0ce376a",
   "metadata": {},
   "outputs": [],
   "source": []
  }
 ],
 "metadata": {
  "kernelspec": {
   "display_name": "Python 3 (ipykernel)",
   "language": "python",
   "name": "python3"
  },
  "language_info": {
   "codemirror_mode": {
    "name": "ipython",
    "version": 3
   },
   "file_extension": ".py",
   "mimetype": "text/x-python",
   "name": "python",
   "nbconvert_exporter": "python",
   "pygments_lexer": "ipython3",
   "version": "3.11.10"
  }
 },
 "nbformat": 4,
 "nbformat_minor": 5
}
