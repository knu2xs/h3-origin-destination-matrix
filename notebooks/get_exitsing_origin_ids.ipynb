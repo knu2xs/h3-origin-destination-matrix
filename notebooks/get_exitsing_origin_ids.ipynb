{
 "cells": [
  {
   "cell_type": "code",
   "execution_count": 4,
   "id": "121792b5-8e7f-482a-a382-f510f0d21833",
   "metadata": {},
   "outputs": [],
   "source": [
    "from pathlib import Path\n",
    "\n",
    "import pyarrow.dataset as ds"
   ]
  },
  {
   "cell_type": "code",
   "execution_count": 9,
   "id": "555de8a1-1748-4bc7-8bc9-3ac177ceb757",
   "metadata": {},
   "outputs": [],
   "source": [
    "origin_destination_dataset_pth = Path(r'D:\\projects\\h3-origin-destination-matrix\\data\\processed\\od_matrix\\parquet')\n",
    "\n",
    "assert origin_destination_dataset_pth.exists()"
   ]
  },
  {
   "cell_type": "code",
   "execution_count": 38,
   "id": "09df8337-34a3-431d-957a-83d8a606402a",
   "metadata": {},
   "outputs": [
    {
     "data": {
      "text/plain": [
       "['8a28d590040ffff',\n",
       " '8a28d5900447fff',\n",
       " '8a28d5900457fff',\n",
       " '8a28d590045ffff',\n",
       " '8a28d59004affff',\n",
       " '8a28d59004b7fff',\n",
       " '8a28d59004c7fff',\n",
       " '8a28d59004cffff',\n",
       " '8a28d59004d7fff',\n",
       " '8a28d59004dffff']"
      ]
     },
     "execution_count": 38,
     "metadata": {},
     "output_type": "execute_result"
    }
   ],
   "source": [
    "existing_origin_id_lst = [pth.name.split('=')[-1] for pth in origin_destination_dataset_pth.glob('origin_id=*')]\n",
    "\n",
    "existing_origin_id_lst[:10]"
   ]
  },
  {
   "cell_type": "code",
   "execution_count": 36,
   "id": "784593d4-1a4c-4d44-b595-aa660fdb44d8",
   "metadata": {},
   "outputs": [],
   "source": [
    "import pandas as pd"
   ]
  },
  {
   "cell_type": "code",
   "execution_count": 55,
   "id": "4ed4dd85-aa19-4ad8-b00e-377a3e3f22e6",
   "metadata": {},
   "outputs": [],
   "source": [
    "import dask.dataframe as dd"
   ]
  },
  {
   "cell_type": "code",
   "execution_count": 61,
   "id": "8dc9c3c7-eadb-4b6d-8799-283c76ec6fdd",
   "metadata": {},
   "outputs": [
    {
     "name": "stdout",
     "output_type": "stream",
     "text": [
      "<class 'pandas.core.frame.DataFrame'>\n",
      "RangeIndex: 1 entries, 0 to 0\n",
      "Data columns (total 4 columns):\n",
      " #   Column          Non-Null Count  Dtype  \n",
      "---  ------          --------------  -----  \n",
      " 0   origin_id       1 non-null      object \n",
      " 1   destination_id  1 non-null      object \n",
      " 2   distance_miles  1 non-null      float64\n",
      " 3   time            1 non-null      float64\n",
      "dtypes: float64(2), object(2)\n",
      "memory usage: 164.0+ bytes\n"
     ]
    }
   ],
   "source": [
    "schm_df = pd.DataFrame.from_records([{\"origin_id\": '8a28d590040ffff', \"destination_id\": '8a28d5900447fff', \"distance_miles\": 2.1, \"time\": 32.1}])\n",
    "\n",
    "schm_df.info()"
   ]
  },
  {
   "cell_type": "code",
   "execution_count": 62,
   "id": "49e15902-6457-40f0-8ae7-b79c68c2ea9d",
   "metadata": {},
   "outputs": [
    {
     "data": {
      "text/html": [
       "<div><strong>Dask DataFrame Structure:</strong></div>\n",
       "<div>\n",
       "<style scoped>\n",
       "    .dataframe tbody tr th:only-of-type {\n",
       "        vertical-align: middle;\n",
       "    }\n",
       "\n",
       "    .dataframe tbody tr th {\n",
       "        vertical-align: top;\n",
       "    }\n",
       "\n",
       "    .dataframe thead th {\n",
       "        text-align: right;\n",
       "    }\n",
       "</style>\n",
       "<table border=\"1\" class=\"dataframe\">\n",
       "  <thead>\n",
       "    <tr style=\"text-align: right;\">\n",
       "      <th></th>\n",
       "      <th>origin_id</th>\n",
       "      <th>destination_id</th>\n",
       "      <th>distance_miles</th>\n",
       "      <th>time</th>\n",
       "    </tr>\n",
       "    <tr>\n",
       "      <th>npartitions=1</th>\n",
       "      <th></th>\n",
       "      <th></th>\n",
       "      <th></th>\n",
       "      <th></th>\n",
       "    </tr>\n",
       "  </thead>\n",
       "  <tbody>\n",
       "    <tr>\n",
       "      <th>0</th>\n",
       "      <td>object</td>\n",
       "      <td>object</td>\n",
       "      <td>float64</td>\n",
       "      <td>float64</td>\n",
       "    </tr>\n",
       "    <tr>\n",
       "      <th>0</th>\n",
       "      <td>...</td>\n",
       "      <td>...</td>\n",
       "      <td>...</td>\n",
       "      <td>...</td>\n",
       "    </tr>\n",
       "  </tbody>\n",
       "</table>\n",
       "</div>\n",
       "<div>Dask Name: from_pandas, 1 graph layer</div>"
      ],
      "text/plain": [
       "Dask DataFrame Structure:\n",
       "              origin_id destination_id distance_miles     time\n",
       "npartitions=1                                                 \n",
       "0                object         object        float64  float64\n",
       "0                   ...            ...            ...      ...\n",
       "Dask Name: from_pandas, 1 graph layer"
      ]
     },
     "execution_count": 62,
     "metadata": {},
     "output_type": "execute_result"
    }
   ],
   "source": [
    "ddf = dd.from_pandas(schm_df, npartitions=8)\n",
    "\n",
    "ddf"
   ]
  },
  {
   "cell_type": "code",
   "execution_count": 64,
   "id": "280557f3-273f-45e3-be04-e26c862ce964",
   "metadata": {},
   "outputs": [
    {
     "data": {
      "text/html": [
       "<div>\n",
       "<style scoped>\n",
       "    .dataframe tbody tr th:only-of-type {\n",
       "        vertical-align: middle;\n",
       "    }\n",
       "\n",
       "    .dataframe tbody tr th {\n",
       "        vertical-align: top;\n",
       "    }\n",
       "\n",
       "    .dataframe thead th {\n",
       "        text-align: right;\n",
       "    }\n",
       "</style>\n",
       "<table border=\"1\" class=\"dataframe\">\n",
       "  <thead>\n",
       "    <tr style=\"text-align: right;\">\n",
       "      <th></th>\n",
       "      <th>origin_id</th>\n",
       "      <th>destination_id</th>\n",
       "      <th>distance_miles</th>\n",
       "      <th>time</th>\n",
       "    </tr>\n",
       "  </thead>\n",
       "  <tbody>\n",
       "    <tr>\n",
       "      <th>0</th>\n",
       "      <td>8a28d590040ffff</td>\n",
       "      <td>8a28d5900447fff</td>\n",
       "      <td>2.1</td>\n",
       "      <td>32.1</td>\n",
       "    </tr>\n",
       "    <tr>\n",
       "      <th>0</th>\n",
       "      <td>8a28d590040ffff</td>\n",
       "      <td>8a28d5900447fff</td>\n",
       "      <td>2.1</td>\n",
       "      <td>32.1</td>\n",
       "    </tr>\n",
       "  </tbody>\n",
       "</table>\n",
       "</div>"
      ],
      "text/plain": [
       "         origin_id   destination_id  distance_miles  time\n",
       "0  8a28d590040ffff  8a28d5900447fff             2.1  32.1\n",
       "0  8a28d590040ffff  8a28d5900447fff             2.1  32.1"
      ]
     },
     "execution_count": 64,
     "metadata": {},
     "output_type": "execute_result"
    }
   ],
   "source": [
    "dd.concat([ddf, dd.from_pandas(schm_df, npartitions=8)]).compute()"
   ]
  },
  {
   "cell_type": "code",
   "execution_count": 74,
   "id": "faa76144-11a5-4ffa-b887-c615d852d36a",
   "metadata": {},
   "outputs": [],
   "source": [
    "import math\n",
    "\n",
    "in_lst = list(range(10))\n",
    "output_batch_size = 3\n",
    "\n",
    "# [in_lst[n: n + output_batch_size] for n in "
   ]
  },
  {
   "cell_type": "code",
   "execution_count": 85,
   "id": "0ec7a460-418e-4ae1-b499-f14f3d2ec5ae",
   "metadata": {},
   "outputs": [
    {
     "data": {
      "text/plain": [
       "[[0, 1, 2], [3, 4, 5], [6, 7, 8], [9]]"
      ]
     },
     "execution_count": 85,
     "metadata": {},
     "output_type": "execute_result"
    }
   ],
   "source": [
    "[in_lst[idx: idx + output_batch_size] for idx in range(0, len(in_lst), output_batch_size)]"
   ]
  },
  {
   "cell_type": "code",
   "execution_count": null,
   "id": "54d29118-b005-4acc-956c-9d220e91ad3f",
   "metadata": {},
   "outputs": [],
   "source": []
  }
 ],
 "metadata": {
  "kernelspec": {
   "display_name": "Python 3 (ipykernel)",
   "language": "python",
   "name": "python3"
  },
  "language_info": {
   "codemirror_mode": {
    "name": "ipython",
    "version": 3
   },
   "file_extension": ".py",
   "mimetype": "text/x-python",
   "name": "python",
   "nbconvert_exporter": "python",
   "pygments_lexer": "ipython3",
   "version": "3.11.10"
  }
 },
 "nbformat": 4,
 "nbformat_minor": 5
}
